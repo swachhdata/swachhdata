{
 "cells": [
  {
   "cell_type": "code",
   "execution_count": 1,
   "metadata": {},
   "outputs": [
    {
     "name": "stdout",
     "output_type": "stream",
     "text": [
      "2.0.0\n"
     ]
    },
    {
     "name": "stderr",
     "output_type": "stream",
     "text": [
      "/Users/kritikseth/anaconda3/envs/swachhdata/lib/python3.11/site-packages/tqdm/auto.py:21: TqdmWarning: IProgress not found. Please update jupyter and ipywidgets. See https://ipywidgets.readthedocs.io/en/stable/user_install.html\n",
      "  from .autonotebook import tqdm as notebook_tqdm\n"
     ]
    }
   ],
   "source": [
    "import pandas as pd\n",
    "\n",
    "import swachhdata\n",
    "from swachhdata.text import *\n",
    "from swachhdata.compose import TextDatum\n",
    "\n",
    "print(swachhdata.__version__)"
   ]
  },
  {
   "cell_type": "code",
   "execution_count": 2,
   "metadata": {},
   "outputs": [],
   "source": [
    "democrats = pd.read_csv('https://raw.githubusercontent.com/kritikseth/sentiment-analysis/master/twitter_democrat.csv')\n",
    "republicans = pd.read_csv('https://raw.githubusercontent.com/kritikseth/sentiment-analysis/master/twitter_republican.csv')\n",
    "\n",
    "d = TextDatum(democrats['Tweets'])\n",
    "r = TextDatum(republicans['Tweets'])\n",
    "tweets = d + r"
   ]
  },
  {
   "cell_type": "code",
   "execution_count": 3,
   "metadata": {},
   "outputs": [],
   "source": [
    "pipeline = urlRecast() + \\\n",
    "           htmlRecast() + \\\n",
    "           EscapeSequencesRecast() + \\\n",
    "           MentionsRecast() + \\\n",
    "           ContractionsRecast() + \\\n",
    "           CaseRecast(process='lower') + \\\n",
    "           HashtagsRecast(process='remove') + \\\n",
    "           ShortWordsRecast(min_length=2) + \\\n",
    "           StopWordsRecast() + \\\n",
    "           NumbersRecast(process='replace', seperator=',') + \\\n",
    "           AlphabetRecast(process='all') + \\\n",
    "           PunctuationsRecast() + \\\n",
    "           LemmatizationRecast()\n",
    "\n",
    "# pipeline.setup_recast(tweets + tweets + tweets)"
   ]
  },
  {
   "cell_type": "code",
   "execution_count": 4,
   "metadata": {},
   "outputs": [
    {
     "name": "stderr",
     "output_type": "stream",
     "text": [
      "100%|██████████| 13/13 [00:00<00:00, 13.92it/s, Pipeline process=LemmatizationRecast]\n"
     ]
    },
    {
     "data": {
      "text/plain": [
       "['hey do name kritik seth']"
      ]
     },
     "execution_count": 4,
     "metadata": {},
     "output_type": "execute_result"
    }
   ],
   "source": [
    "pipeline.setup_recast('Hey there how are you doing, my name is Kritik Seth')"
   ]
  },
  {
   "cell_type": "code",
   "execution_count": 5,
   "metadata": {},
   "outputs": [
    {
     "name": "stderr",
     "output_type": "stream",
     "text": [
      "100%|██████████| 13/13 [00:00<00:00, 280.73it/s, Pipeline process=LemmatizationRecast]\n"
     ]
    },
    {
     "data": {
      "text/plain": [
       "['hey do name kritik seth']"
      ]
     },
     "execution_count": 5,
     "metadata": {},
     "output_type": "execute_result"
    }
   ],
   "source": [
    "pipeline.setup_recast('Hey there how are you doing, my name is Neelima Seth')"
   ]
  },
  {
   "cell_type": "code",
   "execution_count": 6,
   "metadata": {},
   "outputs": [],
   "source": [
    "from swachhdata.text.base import ModuleTextRecast"
   ]
  },
  {
   "cell_type": "code",
   "execution_count": 7,
   "metadata": {},
   "outputs": [],
   "source": [
    "m = ModuleTextRecast()\n",
    "m.setup('ModuleTextRecast')"
   ]
  },
  {
   "cell_type": "code",
   "execution_count": 8,
   "metadata": {},
   "outputs": [
    {
     "data": {
      "text/plain": [
       "['ModuleTextRecast']"
      ]
     },
     "execution_count": 8,
     "metadata": {},
     "output_type": "execute_result"
    }
   ],
   "source": [
    "m.data"
   ]
  },
  {
   "cell_type": "code",
   "execution_count": 9,
   "metadata": {},
   "outputs": [],
   "source": [
    "m.setup_recast('setup_recast')"
   ]
  },
  {
   "cell_type": "code",
   "execution_count": 10,
   "metadata": {},
   "outputs": [
    {
     "data": {
      "text/plain": [
       "['ModuleTextRecast']"
      ]
     },
     "execution_count": 10,
     "metadata": {},
     "output_type": "execute_result"
    }
   ],
   "source": [
    "m.data"
   ]
  },
  {
   "cell_type": "code",
   "execution_count": null,
   "metadata": {},
   "outputs": [],
   "source": []
  }
 ],
 "metadata": {
  "kernelspec": {
   "display_name": "base",
   "language": "python",
   "name": "python3"
  },
  "language_info": {
   "codemirror_mode": {
    "name": "ipython",
    "version": 3
   },
   "file_extension": ".py",
   "mimetype": "text/x-python",
   "name": "python",
   "nbconvert_exporter": "python",
   "pygments_lexer": "ipython3",
   "version": "3.11.3"
  },
  "orig_nbformat": 4
 },
 "nbformat": 4,
 "nbformat_minor": 2
}
